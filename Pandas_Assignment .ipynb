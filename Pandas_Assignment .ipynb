{
  "cells": [
    {
      "cell_type": "markdown",
      "metadata": {
        "id": "dblwOdF5wVhv"
      },
      "source": [
        "![](../docs/banner.png)"
      ]
    },
    {
      "cell_type": "markdown",
      "metadata": {
        "id": "goNAefIPwViJ"
      },
      "source": [
        "# Pandas\n"
      ]
    },
    {
      "cell_type": "markdown",
      "metadata": {
        "id": "nmjKQ4U7wViK"
      },
      "source": [
        "## Exercises"
      ]
    },
    {
      "cell_type": "markdown",
      "metadata": {
        "id": "S13xUNIqwViK"
      },
      "source": [
        "In this set of practice exercises we'll be investigating the carbon footprint of different foods. We'll be leveraging a dataset compiled by [Kasia Kulma](https://r-tastic.co.uk/post/from-messy-to-tidy/) and contributed to [R's Tidy Tuesday project](https://github.com/rfordatascience/tidytuesday).\n",
        "\n",
        "Start by importing pandas with the alias `pd`."
      ]
    },
    {
      "cell_type": "code",
      "execution_count": 2,
      "metadata": {
        "id": "A8nHeZhMwViK"
      },
      "outputs": [],
      "source": [
        "# Your answer here.\n",
        "import pandas as pd"
      ]
    },
    {
      "cell_type": "markdown",
      "metadata": {
        "id": "J5JLaaFfwViL"
      },
      "source": [
        "### 2."
      ]
    },
    {
      "cell_type": "markdown",
      "metadata": {
        "id": "26iKDHl2wViL"
      },
      "source": [
        "The dataset we'll be working with has the following columns:\n",
        "\n",
        "|column      |description |\n",
        "|:-------------|:-----------|\n",
        "|country       | Country Name |\n",
        "|food_category | Food Category |\n",
        "|consumption   | Consumption (kg/person/year) |\n",
        "|co2_emmission | Co2 Emission (Kg CO2/person/year) |\n",
        "\n",
        "\n",
        "Import the dataset as a dataframe named `df` from this url: <https://raw.githubusercontent.com/rfordatascience/tidytuesday/master/data/2020/2020-02-18/food_consumption.csv>"
      ]
    },
    {
      "cell_type": "code",
      "execution_count": 3,
      "metadata": {
        "id": "8gVcwhCtwViM"
      },
      "outputs": [],
      "source": [
        "# Your answer here.\n",
        "url = 'https://raw.githubusercontent.com/rfordatascience/tidytuesday/master/data/2020/2020-02-18/food_consumption.csv'\n",
        "df = pd.read_csv(url)"
      ]
    },
    {
      "cell_type": "markdown",
      "metadata": {
        "id": "ssCqr0y6wViM"
      },
      "source": [
        "### 3."
      ]
    },
    {
      "cell_type": "markdown",
      "metadata": {
        "id": "xESnrMwnwViM"
      },
      "source": [
        "How many rows and columns are there in the dataframe?"
      ]
    },
    {
      "cell_type": "code",
      "execution_count": null,
      "metadata": {
        "id": "U66otghVwViM",
        "outputId": "724423e2-df81-40c0-f28a-97d62085f327",
        "colab": {
          "base_uri": "https://localhost:8080/"
        }
      },
      "outputs": [
        {
          "output_type": "stream",
          "name": "stdout",
          "text": [
            "(1430, 4)\n"
          ]
        }
      ],
      "source": [
        "# Your answer here.\n",
        "print(df.shape)\n",
        "print(df)"
      ]
    },
    {
      "cell_type": "markdown",
      "metadata": {
        "id": "10Y6LSI4wViN"
      },
      "source": [
        "### 4."
      ]
    },
    {
      "cell_type": "markdown",
      "metadata": {
        "id": "PStjRaw9wViN"
      },
      "source": [
        "What is the type of data in each column of `df`?"
      ]
    },
    {
      "cell_type": "code",
      "execution_count": 6,
      "metadata": {
        "id": "ZwQlqwnVwViN",
        "outputId": "c1b66202-2aa8-43cf-e3a0-2d953bd1d128",
        "colab": {
          "base_uri": "https://localhost:8080/"
        }
      },
      "outputs": [
        {
          "output_type": "stream",
          "name": "stdout",
          "text": [
            "country           object\n",
            "food_category     object\n",
            "consumption      float64\n",
            "co2_emmission    float64\n",
            "dtype: object\n"
          ]
        }
      ],
      "source": [
        "# Your answer here.\n",
        "print(df.dtypes)"
      ]
    },
    {
      "cell_type": "markdown",
      "metadata": {
        "id": "O0XLxHk-wViN"
      },
      "source": [
        "### 5."
      ]
    },
    {
      "cell_type": "markdown",
      "metadata": {
        "id": "EhydBFTwwViN"
      },
      "source": [
        "What is the mean `co2_emission` of the whole dataset?"
      ]
    },
    {
      "cell_type": "code",
      "execution_count": null,
      "metadata": {
        "id": "7gWrG1uwwViN",
        "outputId": "a8a05079-627d-46d3-ad44-696ee19f7887",
        "colab": {
          "base_uri": "https://localhost:8080/"
        }
      },
      "outputs": [
        {
          "output_type": "stream",
          "name": "stdout",
          "text": [
            "mean of co2_emmission is: 74.383993006993\n"
          ]
        }
      ],
      "source": [
        "# Your answer here.\n",
        "print(\"mean of co2_emmission is:\", df[\"co2_emmission\"].mean())"
      ]
    },
    {
      "cell_type": "markdown",
      "metadata": {
        "id": "OVKr875ewViN"
      },
      "source": [
        "### 6."
      ]
    },
    {
      "cell_type": "markdown",
      "metadata": {
        "id": "n469svJiwViN"
      },
      "source": [
        "How many different kinds of foods are there in the dataset? How many countries are in the dataset?"
      ]
    },
    {
      "cell_type": "code",
      "execution_count": 11,
      "metadata": {
        "id": "EmADNPalwViN",
        "colab": {
          "base_uri": "https://localhost:8080/"
        },
        "outputId": "b2f276a3-369f-4c12-a89b-691e507a214a"
      },
      "outputs": [
        {
          "output_type": "stream",
          "name": "stdout",
          "text": [
            "the different kinds of foods are 11  in number and they are ['Pork' 'Poultry' 'Beef' 'Lamb & Goat' 'Fish' 'Eggs' 'Milk - inc. cheese'\n",
            " 'Wheat and Wheat Products' 'Rice' 'Soybeans' 'Nuts inc. Peanut Butter']\n",
            "\n",
            "countries in the dataset are 130  in number and they are ['Argentina' 'Australia' 'Albania' 'Iceland' 'New Zealand' 'USA' 'Uruguay'\n",
            " 'Luxembourg' 'Brazil' 'Kazakhstan' 'Sweden' 'Bermuda' 'Denmark' 'Finland'\n",
            " 'Ireland' 'Greece' 'France' 'Canada' 'Norway' 'Hong Kong SAR. China'\n",
            " 'French Polynesia' 'Israel' 'Switzerland' 'Netherlands' 'Kuwait'\n",
            " 'United Kingdom' 'Austria' 'Oman' 'Italy' 'Bahamas' 'Portugal' 'Malta'\n",
            " 'Armenia' 'Slovenia' 'Chile' 'Venezuela' 'Belgium' 'Germany' 'Russia'\n",
            " 'Croatia' 'Belarus' 'Spain' 'Paraguay' 'New Caledonia' 'South Africa'\n",
            " 'Barbados' 'Lithuania' 'Turkey' 'Estonia' 'Mexico' 'Costa Rica' 'Bolivia'\n",
            " 'Ecuador' 'Panama' 'Czech Republic' 'Romania' 'Colombia' 'Maldives'\n",
            " 'Cyprus' 'Serbia' 'United Arab Emirates' 'Algeria' 'Ukraine' 'Pakistan'\n",
            " 'Swaziland' 'Latvia' 'Bosnia and Herzegovina' 'Fiji' 'South Korea'\n",
            " 'Poland' 'Saudi Arabia' 'Botswana' 'Macedonia' 'Hungary'\n",
            " 'Trinidad and Tobago' 'Tunisia' 'Egypt' 'Mauritius' 'Bulgaria' 'Morocco'\n",
            " 'Slovakia' 'Niger' 'Kenya' 'Jordan' 'Japan' 'Georgia' 'Grenada'\n",
            " 'El Salvador' 'Cuba' 'China' 'Honduras' 'Taiwan. ROC' 'Angola' 'Jamaica'\n",
            " 'Namibia' 'Belize' 'Malaysia' 'Zimbabwe' 'Guatemala' 'Uganda' 'Nepal'\n",
            " 'Iran' 'Tanzania' 'Senegal' 'Peru' 'Nicaragua' 'Vietnam' 'Ethiopia'\n",
            " 'Myanmar' 'Congo' 'Zambia' 'Cameroon' 'Madagascar' 'Malawi' 'Guinea'\n",
            " 'Nigeria' 'Rwanda' 'Philippines' 'Ghana' 'Togo' 'Gambia' 'India'\n",
            " 'Thailand' 'Mozambique' 'Cambodia' 'Sierra Leone' 'Sri Lanka' 'Indonesia'\n",
            " 'Liberia' 'Bangladesh']\n"
          ]
        }
      ],
      "source": [
        "# Your answer here.\n",
        "print(\"the different kinds of foods are\", df[\"food_category\"].nunique(),\" in number and they are\", df[\"food_category\"].unique())\n",
        "print()\n",
        "print(\"countries in the dataset are\", df[\"country\"].nunique(),\" in number and they are\", df[\"country\"].unique())\n"
      ]
    },
    {
      "cell_type": "code",
      "source": [
        "print(df.head())"
      ],
      "metadata": {
        "colab": {
          "base_uri": "https://localhost:8080/"
        },
        "id": "_fBxMBVt47w5",
        "outputId": "61892feb-df3e-4e65-8650-b20f0327f8c5"
      },
      "execution_count": null,
      "outputs": [
        {
          "output_type": "stream",
          "name": "stdout",
          "text": [
            "     country food_category  consumption  co2_emmission\n",
            "0  Argentina          Pork        10.51          37.20\n",
            "1  Argentina       Poultry        38.66          41.53\n",
            "2  Argentina          Beef        55.48        1712.00\n",
            "3  Argentina   Lamb & Goat         1.56          54.63\n",
            "4  Argentina          Fish         4.36           6.96\n"
          ]
        }
      ]
    },
    {
      "cell_type": "markdown",
      "metadata": {
        "id": "-EArTC35wViO"
      },
      "source": [
        "### 7."
      ]
    },
    {
      "cell_type": "markdown",
      "metadata": {
        "id": "aZn2P9WswViO"
      },
      "source": [
        "What is the maximum `co2_emmission` in the dataset and which food type and country does it belong to?"
      ]
    },
    {
      "cell_type": "code",
      "execution_count": null,
      "metadata": {
        "id": "Xh6VXJmZwViO",
        "outputId": "9efada90-623e-48a4-da64-40d098de89cd",
        "colab": {
          "base_uri": "https://localhost:8080/"
        }
      },
      "outputs": [
        {
          "output_type": "stream",
          "name": "stdout",
          "text": [
            "food_category             country  \n",
            "Beef                      Albania       694.30\n",
            "                          Algeria       172.80\n",
            "                          Angola        259.82\n",
            "                          Argentina    1712.00\n",
            "                          Armenia       606.67\n",
            "                                        ...   \n",
            "Wheat and Wheat Products  Uruguay        20.85\n",
            "                          Venezuela       9.38\n",
            "                          Vietnam         2.00\n",
            "                          Zambia          2.31\n",
            "                          Zimbabwe        5.97\n",
            "Name: co2_emmission, Length: 1430, dtype: float64\n"
          ]
        }
      ],
      "source": [
        "# Your answer here.\n",
        "max_emmission = df.groupby([\"food_category\",\"country\"])[\"co2_emmission\"].max()\n",
        "print(max_emmission)"
      ]
    },
    {
      "cell_type": "markdown",
      "metadata": {
        "id": "e4IaSrt7wViO"
      },
      "source": [
        "### 8."
      ]
    },
    {
      "cell_type": "markdown",
      "metadata": {
        "id": "jFQSmdnmwViO"
      },
      "source": [
        "How many countries produce more than 1000 Kg CO2/person/year for at least one food type?"
      ]
    },
    {
      "cell_type": "code",
      "execution_count": null,
      "metadata": {
        "id": "_apbzwt-wViO",
        "outputId": "707e884a-c65d-46c7-95e6-af93ba7c984b",
        "colab": {
          "base_uri": "https://localhost:8080/",
          "height": 206
        }
      },
      "outputs": [
        {
          "output_type": "execute_result",
          "data": {
            "text/plain": [
              "       country  co2_emmission\n",
              "2    Argentina        1712.00\n",
              "13   Australia        1044.85\n",
              "57         USA        1118.29\n",
              "90      Brazil        1211.17\n",
              "123    Bermuda        1022.94"
            ],
            "text/html": [
              "\n",
              "  <div id=\"df-77f49b7e-2167-4a78-9f2a-0446e9580ab4\">\n",
              "    <div class=\"colab-df-container\">\n",
              "      <div>\n",
              "<style scoped>\n",
              "    .dataframe tbody tr th:only-of-type {\n",
              "        vertical-align: middle;\n",
              "    }\n",
              "\n",
              "    .dataframe tbody tr th {\n",
              "        vertical-align: top;\n",
              "    }\n",
              "\n",
              "    .dataframe thead th {\n",
              "        text-align: right;\n",
              "    }\n",
              "</style>\n",
              "<table border=\"1\" class=\"dataframe\">\n",
              "  <thead>\n",
              "    <tr style=\"text-align: right;\">\n",
              "      <th></th>\n",
              "      <th>country</th>\n",
              "      <th>co2_emmission</th>\n",
              "    </tr>\n",
              "  </thead>\n",
              "  <tbody>\n",
              "    <tr>\n",
              "      <th>2</th>\n",
              "      <td>Argentina</td>\n",
              "      <td>1712.00</td>\n",
              "    </tr>\n",
              "    <tr>\n",
              "      <th>13</th>\n",
              "      <td>Australia</td>\n",
              "      <td>1044.85</td>\n",
              "    </tr>\n",
              "    <tr>\n",
              "      <th>57</th>\n",
              "      <td>USA</td>\n",
              "      <td>1118.29</td>\n",
              "    </tr>\n",
              "    <tr>\n",
              "      <th>90</th>\n",
              "      <td>Brazil</td>\n",
              "      <td>1211.17</td>\n",
              "    </tr>\n",
              "    <tr>\n",
              "      <th>123</th>\n",
              "      <td>Bermuda</td>\n",
              "      <td>1022.94</td>\n",
              "    </tr>\n",
              "  </tbody>\n",
              "</table>\n",
              "</div>\n",
              "      <button class=\"colab-df-convert\" onclick=\"convertToInteractive('df-77f49b7e-2167-4a78-9f2a-0446e9580ab4')\"\n",
              "              title=\"Convert this dataframe to an interactive table.\"\n",
              "              style=\"display:none;\">\n",
              "        \n",
              "  <svg xmlns=\"http://www.w3.org/2000/svg\" height=\"24px\"viewBox=\"0 0 24 24\"\n",
              "       width=\"24px\">\n",
              "    <path d=\"M0 0h24v24H0V0z\" fill=\"none\"/>\n",
              "    <path d=\"M18.56 5.44l.94 2.06.94-2.06 2.06-.94-2.06-.94-.94-2.06-.94 2.06-2.06.94zm-11 1L8.5 8.5l.94-2.06 2.06-.94-2.06-.94L8.5 2.5l-.94 2.06-2.06.94zm10 10l.94 2.06.94-2.06 2.06-.94-2.06-.94-.94-2.06-.94 2.06-2.06.94z\"/><path d=\"M17.41 7.96l-1.37-1.37c-.4-.4-.92-.59-1.43-.59-.52 0-1.04.2-1.43.59L10.3 9.45l-7.72 7.72c-.78.78-.78 2.05 0 2.83L4 21.41c.39.39.9.59 1.41.59.51 0 1.02-.2 1.41-.59l7.78-7.78 2.81-2.81c.8-.78.8-2.07 0-2.86zM5.41 20L4 18.59l7.72-7.72 1.47 1.35L5.41 20z\"/>\n",
              "  </svg>\n",
              "      </button>\n",
              "      \n",
              "  <style>\n",
              "    .colab-df-container {\n",
              "      display:flex;\n",
              "      flex-wrap:wrap;\n",
              "      gap: 12px;\n",
              "    }\n",
              "\n",
              "    .colab-df-convert {\n",
              "      background-color: #E8F0FE;\n",
              "      border: none;\n",
              "      border-radius: 50%;\n",
              "      cursor: pointer;\n",
              "      display: none;\n",
              "      fill: #1967D2;\n",
              "      height: 32px;\n",
              "      padding: 0 0 0 0;\n",
              "      width: 32px;\n",
              "    }\n",
              "\n",
              "    .colab-df-convert:hover {\n",
              "      background-color: #E2EBFA;\n",
              "      box-shadow: 0px 1px 2px rgba(60, 64, 67, 0.3), 0px 1px 3px 1px rgba(60, 64, 67, 0.15);\n",
              "      fill: #174EA6;\n",
              "    }\n",
              "\n",
              "    [theme=dark] .colab-df-convert {\n",
              "      background-color: #3B4455;\n",
              "      fill: #D2E3FC;\n",
              "    }\n",
              "\n",
              "    [theme=dark] .colab-df-convert:hover {\n",
              "      background-color: #434B5C;\n",
              "      box-shadow: 0px 1px 3px 1px rgba(0, 0, 0, 0.15);\n",
              "      filter: drop-shadow(0px 1px 2px rgba(0, 0, 0, 0.3));\n",
              "      fill: #FFFFFF;\n",
              "    }\n",
              "  </style>\n",
              "\n",
              "      <script>\n",
              "        const buttonEl =\n",
              "          document.querySelector('#df-77f49b7e-2167-4a78-9f2a-0446e9580ab4 button.colab-df-convert');\n",
              "        buttonEl.style.display =\n",
              "          google.colab.kernel.accessAllowed ? 'block' : 'none';\n",
              "\n",
              "        async function convertToInteractive(key) {\n",
              "          const element = document.querySelector('#df-77f49b7e-2167-4a78-9f2a-0446e9580ab4');\n",
              "          const dataTable =\n",
              "            await google.colab.kernel.invokeFunction('convertToInteractive',\n",
              "                                                     [key], {});\n",
              "          if (!dataTable) return;\n",
              "\n",
              "          const docLinkHtml = 'Like what you see? Visit the ' +\n",
              "            '<a target=\"_blank\" href=https://colab.research.google.com/notebooks/data_table.ipynb>data table notebook</a>'\n",
              "            + ' to learn more about interactive tables.';\n",
              "          element.innerHTML = '';\n",
              "          dataTable['output_type'] = 'display_data';\n",
              "          await google.colab.output.renderOutput(dataTable, element);\n",
              "          const docLink = document.createElement('div');\n",
              "          docLink.innerHTML = docLinkHtml;\n",
              "          element.appendChild(docLink);\n",
              "        }\n",
              "      </script>\n",
              "    </div>\n",
              "  </div>\n",
              "  "
            ]
          },
          "metadata": {},
          "execution_count": 18
        }
      ],
      "source": [
        "# Your answer here. \n",
        "df[[\"country\",\"co2_emmission\"]][df[\"co2_emmission\"]>1000]"
      ]
    },
    {
      "cell_type": "markdown",
      "metadata": {
        "id": "wDhKwN33wViO"
      },
      "source": [
        "### 9."
      ]
    },
    {
      "cell_type": "markdown",
      "metadata": {
        "id": "n3DtYP66wViO"
      },
      "source": [
        "Which country consumes the least amount of beef per person per year?"
      ]
    },
    {
      "cell_type": "code",
      "execution_count": 31,
      "metadata": {
        "id": "8ikla_55wViO",
        "colab": {
          "base_uri": "https://localhost:8080/",
          "height": 81
        },
        "outputId": "f1d64308-cfff-4146-9d75-9b3a72b901cc"
      },
      "outputs": [
        {
          "output_type": "execute_result",
          "data": {
            "text/plain": [
              "      country  consumption\n",
              "1410  Liberia         0.78"
            ],
            "text/html": [
              "\n",
              "  <div id=\"df-3b94954e-5c65-481e-92a4-3a1670a15a6c\">\n",
              "    <div class=\"colab-df-container\">\n",
              "      <div>\n",
              "<style scoped>\n",
              "    .dataframe tbody tr th:only-of-type {\n",
              "        vertical-align: middle;\n",
              "    }\n",
              "\n",
              "    .dataframe tbody tr th {\n",
              "        vertical-align: top;\n",
              "    }\n",
              "\n",
              "    .dataframe thead th {\n",
              "        text-align: right;\n",
              "    }\n",
              "</style>\n",
              "<table border=\"1\" class=\"dataframe\">\n",
              "  <thead>\n",
              "    <tr style=\"text-align: right;\">\n",
              "      <th></th>\n",
              "      <th>country</th>\n",
              "      <th>consumption</th>\n",
              "    </tr>\n",
              "  </thead>\n",
              "  <tbody>\n",
              "    <tr>\n",
              "      <th>1410</th>\n",
              "      <td>Liberia</td>\n",
              "      <td>0.78</td>\n",
              "    </tr>\n",
              "  </tbody>\n",
              "</table>\n",
              "</div>\n",
              "      <button class=\"colab-df-convert\" onclick=\"convertToInteractive('df-3b94954e-5c65-481e-92a4-3a1670a15a6c')\"\n",
              "              title=\"Convert this dataframe to an interactive table.\"\n",
              "              style=\"display:none;\">\n",
              "        \n",
              "  <svg xmlns=\"http://www.w3.org/2000/svg\" height=\"24px\"viewBox=\"0 0 24 24\"\n",
              "       width=\"24px\">\n",
              "    <path d=\"M0 0h24v24H0V0z\" fill=\"none\"/>\n",
              "    <path d=\"M18.56 5.44l.94 2.06.94-2.06 2.06-.94-2.06-.94-.94-2.06-.94 2.06-2.06.94zm-11 1L8.5 8.5l.94-2.06 2.06-.94-2.06-.94L8.5 2.5l-.94 2.06-2.06.94zm10 10l.94 2.06.94-2.06 2.06-.94-2.06-.94-.94-2.06-.94 2.06-2.06.94z\"/><path d=\"M17.41 7.96l-1.37-1.37c-.4-.4-.92-.59-1.43-.59-.52 0-1.04.2-1.43.59L10.3 9.45l-7.72 7.72c-.78.78-.78 2.05 0 2.83L4 21.41c.39.39.9.59 1.41.59.51 0 1.02-.2 1.41-.59l7.78-7.78 2.81-2.81c.8-.78.8-2.07 0-2.86zM5.41 20L4 18.59l7.72-7.72 1.47 1.35L5.41 20z\"/>\n",
              "  </svg>\n",
              "      </button>\n",
              "      \n",
              "  <style>\n",
              "    .colab-df-container {\n",
              "      display:flex;\n",
              "      flex-wrap:wrap;\n",
              "      gap: 12px;\n",
              "    }\n",
              "\n",
              "    .colab-df-convert {\n",
              "      background-color: #E8F0FE;\n",
              "      border: none;\n",
              "      border-radius: 50%;\n",
              "      cursor: pointer;\n",
              "      display: none;\n",
              "      fill: #1967D2;\n",
              "      height: 32px;\n",
              "      padding: 0 0 0 0;\n",
              "      width: 32px;\n",
              "    }\n",
              "\n",
              "    .colab-df-convert:hover {\n",
              "      background-color: #E2EBFA;\n",
              "      box-shadow: 0px 1px 2px rgba(60, 64, 67, 0.3), 0px 1px 3px 1px rgba(60, 64, 67, 0.15);\n",
              "      fill: #174EA6;\n",
              "    }\n",
              "\n",
              "    [theme=dark] .colab-df-convert {\n",
              "      background-color: #3B4455;\n",
              "      fill: #D2E3FC;\n",
              "    }\n",
              "\n",
              "    [theme=dark] .colab-df-convert:hover {\n",
              "      background-color: #434B5C;\n",
              "      box-shadow: 0px 1px 3px 1px rgba(0, 0, 0, 0.15);\n",
              "      filter: drop-shadow(0px 1px 2px rgba(0, 0, 0, 0.3));\n",
              "      fill: #FFFFFF;\n",
              "    }\n",
              "  </style>\n",
              "\n",
              "      <script>\n",
              "        const buttonEl =\n",
              "          document.querySelector('#df-3b94954e-5c65-481e-92a4-3a1670a15a6c button.colab-df-convert');\n",
              "        buttonEl.style.display =\n",
              "          google.colab.kernel.accessAllowed ? 'block' : 'none';\n",
              "\n",
              "        async function convertToInteractive(key) {\n",
              "          const element = document.querySelector('#df-3b94954e-5c65-481e-92a4-3a1670a15a6c');\n",
              "          const dataTable =\n",
              "            await google.colab.kernel.invokeFunction('convertToInteractive',\n",
              "                                                     [key], {});\n",
              "          if (!dataTable) return;\n",
              "\n",
              "          const docLinkHtml = 'Like what you see? Visit the ' +\n",
              "            '<a target=\"_blank\" href=https://colab.research.google.com/notebooks/data_table.ipynb>data table notebook</a>'\n",
              "            + ' to learn more about interactive tables.';\n",
              "          element.innerHTML = '';\n",
              "          dataTable['output_type'] = 'display_data';\n",
              "          await google.colab.output.renderOutput(dataTable, element);\n",
              "          const docLink = document.createElement('div');\n",
              "          docLink.innerHTML = docLinkHtml;\n",
              "          element.appendChild(docLink);\n",
              "        }\n",
              "      </script>\n",
              "    </div>\n",
              "  </div>\n",
              "  "
            ]
          },
          "metadata": {},
          "execution_count": 31
        }
      ],
      "source": [
        "# Your answer here.\n",
        "\n",
        "x = df.query('food_category == \"Beef\"')\n",
        "x[['country','consumption']][x['consumption'] == x['consumption'].min()]"
      ]
    },
    {
      "cell_type": "markdown",
      "metadata": {
        "id": "ALJEwzT6wViO"
      },
      "source": [
        "### 10."
      ]
    },
    {
      "cell_type": "markdown",
      "metadata": {
        "id": "grjIYF61wViO"
      },
      "source": [
        "Which country consumes the most amount of soybeans per person per year?"
      ]
    },
    {
      "cell_type": "code",
      "execution_count": 35,
      "metadata": {
        "id": "wAuAdLVZwViO",
        "colab": {
          "base_uri": "https://localhost:8080/",
          "height": 81
        },
        "outputId": "711998d3-d712-4ce1-a540-30a94e1e9a95"
      },
      "outputs": [
        {
          "output_type": "execute_result",
          "data": {
            "text/plain": [
              "          country  consumption\n",
              "1010  Taiwan. ROC        16.95"
            ],
            "text/html": [
              "\n",
              "  <div id=\"df-27f08b81-e6db-47f1-849b-b1416971e646\">\n",
              "    <div class=\"colab-df-container\">\n",
              "      <div>\n",
              "<style scoped>\n",
              "    .dataframe tbody tr th:only-of-type {\n",
              "        vertical-align: middle;\n",
              "    }\n",
              "\n",
              "    .dataframe tbody tr th {\n",
              "        vertical-align: top;\n",
              "    }\n",
              "\n",
              "    .dataframe thead th {\n",
              "        text-align: right;\n",
              "    }\n",
              "</style>\n",
              "<table border=\"1\" class=\"dataframe\">\n",
              "  <thead>\n",
              "    <tr style=\"text-align: right;\">\n",
              "      <th></th>\n",
              "      <th>country</th>\n",
              "      <th>consumption</th>\n",
              "    </tr>\n",
              "  </thead>\n",
              "  <tbody>\n",
              "    <tr>\n",
              "      <th>1010</th>\n",
              "      <td>Taiwan. ROC</td>\n",
              "      <td>16.95</td>\n",
              "    </tr>\n",
              "  </tbody>\n",
              "</table>\n",
              "</div>\n",
              "      <button class=\"colab-df-convert\" onclick=\"convertToInteractive('df-27f08b81-e6db-47f1-849b-b1416971e646')\"\n",
              "              title=\"Convert this dataframe to an interactive table.\"\n",
              "              style=\"display:none;\">\n",
              "        \n",
              "  <svg xmlns=\"http://www.w3.org/2000/svg\" height=\"24px\"viewBox=\"0 0 24 24\"\n",
              "       width=\"24px\">\n",
              "    <path d=\"M0 0h24v24H0V0z\" fill=\"none\"/>\n",
              "    <path d=\"M18.56 5.44l.94 2.06.94-2.06 2.06-.94-2.06-.94-.94-2.06-.94 2.06-2.06.94zm-11 1L8.5 8.5l.94-2.06 2.06-.94-2.06-.94L8.5 2.5l-.94 2.06-2.06.94zm10 10l.94 2.06.94-2.06 2.06-.94-2.06-.94-.94-2.06-.94 2.06-2.06.94z\"/><path d=\"M17.41 7.96l-1.37-1.37c-.4-.4-.92-.59-1.43-.59-.52 0-1.04.2-1.43.59L10.3 9.45l-7.72 7.72c-.78.78-.78 2.05 0 2.83L4 21.41c.39.39.9.59 1.41.59.51 0 1.02-.2 1.41-.59l7.78-7.78 2.81-2.81c.8-.78.8-2.07 0-2.86zM5.41 20L4 18.59l7.72-7.72 1.47 1.35L5.41 20z\"/>\n",
              "  </svg>\n",
              "      </button>\n",
              "      \n",
              "  <style>\n",
              "    .colab-df-container {\n",
              "      display:flex;\n",
              "      flex-wrap:wrap;\n",
              "      gap: 12px;\n",
              "    }\n",
              "\n",
              "    .colab-df-convert {\n",
              "      background-color: #E8F0FE;\n",
              "      border: none;\n",
              "      border-radius: 50%;\n",
              "      cursor: pointer;\n",
              "      display: none;\n",
              "      fill: #1967D2;\n",
              "      height: 32px;\n",
              "      padding: 0 0 0 0;\n",
              "      width: 32px;\n",
              "    }\n",
              "\n",
              "    .colab-df-convert:hover {\n",
              "      background-color: #E2EBFA;\n",
              "      box-shadow: 0px 1px 2px rgba(60, 64, 67, 0.3), 0px 1px 3px 1px rgba(60, 64, 67, 0.15);\n",
              "      fill: #174EA6;\n",
              "    }\n",
              "\n",
              "    [theme=dark] .colab-df-convert {\n",
              "      background-color: #3B4455;\n",
              "      fill: #D2E3FC;\n",
              "    }\n",
              "\n",
              "    [theme=dark] .colab-df-convert:hover {\n",
              "      background-color: #434B5C;\n",
              "      box-shadow: 0px 1px 3px 1px rgba(0, 0, 0, 0.15);\n",
              "      filter: drop-shadow(0px 1px 2px rgba(0, 0, 0, 0.3));\n",
              "      fill: #FFFFFF;\n",
              "    }\n",
              "  </style>\n",
              "\n",
              "      <script>\n",
              "        const buttonEl =\n",
              "          document.querySelector('#df-27f08b81-e6db-47f1-849b-b1416971e646 button.colab-df-convert');\n",
              "        buttonEl.style.display =\n",
              "          google.colab.kernel.accessAllowed ? 'block' : 'none';\n",
              "\n",
              "        async function convertToInteractive(key) {\n",
              "          const element = document.querySelector('#df-27f08b81-e6db-47f1-849b-b1416971e646');\n",
              "          const dataTable =\n",
              "            await google.colab.kernel.invokeFunction('convertToInteractive',\n",
              "                                                     [key], {});\n",
              "          if (!dataTable) return;\n",
              "\n",
              "          const docLinkHtml = 'Like what you see? Visit the ' +\n",
              "            '<a target=\"_blank\" href=https://colab.research.google.com/notebooks/data_table.ipynb>data table notebook</a>'\n",
              "            + ' to learn more about interactive tables.';\n",
              "          element.innerHTML = '';\n",
              "          dataTable['output_type'] = 'display_data';\n",
              "          await google.colab.output.renderOutput(dataTable, element);\n",
              "          const docLink = document.createElement('div');\n",
              "          docLink.innerHTML = docLinkHtml;\n",
              "          element.appendChild(docLink);\n",
              "        }\n",
              "      </script>\n",
              "    </div>\n",
              "  </div>\n",
              "  "
            ]
          },
          "metadata": {},
          "execution_count": 35
        }
      ],
      "source": [
        "# Your answer here.\n",
        "df_soy = df[df[\"food_category\"] == \"Soybeans\"]\n",
        "df_soy[['country','consumption']][df_soy[\"consumption\"] == df_soy[\"consumption\"].max()]\n"
      ]
    },
    {
      "cell_type": "markdown",
      "metadata": {
        "id": "Y3hwq2gUwViO"
      },
      "source": [
        "### 11."
      ]
    },
    {
      "cell_type": "markdown",
      "metadata": {
        "id": "1uijLfkWwViO"
      },
      "source": [
        "What is the total emissions of all the meat products (Pork, Poultry, Fish, Lamb & Goat, Beef) in the dataset combined?"
      ]
    },
    {
      "cell_type": "code",
      "execution_count": null,
      "metadata": {
        "id": "l3kRf45lwViO",
        "colab": {
          "base_uri": "https://localhost:8080/"
        },
        "outputId": "a148711b-1958-4a5b-c28e-6bfcce2d49b4"
      },
      "outputs": [
        {
          "output_type": "stream",
          "name": "stdout",
          "text": [
            " total emissions of all the meat products (Pork, Poultry, Fish, Lamb & Goat, Beef) in the dataset is: 74441.13\n"
          ]
        }
      ],
      "source": [
        "# Your answer here.\n",
        "    \n",
        "sum = df[df['food_category'].isin([\"Pork\",\"Poultry\", \"Fish\", \"Lamb & Goat\", \"Beef\"])]['co2_emmission'].sum()\n",
        "print(\" total emissions of all the meat products (Pork, Poultry, Fish, Lamb & Goat, Beef) in the dataset is:\", sum)\n"
      ]
    },
    {
      "cell_type": "markdown",
      "metadata": {
        "id": "eI012S08wViP"
      },
      "source": [
        "### 12."
      ]
    },
    {
      "cell_type": "markdown",
      "metadata": {
        "id": "WrcILWenwViP"
      },
      "source": [
        "What is the total emissions of all other (non-meat) products in the dataset combined?"
      ]
    },
    {
      "cell_type": "code",
      "execution_count": null,
      "metadata": {
        "id": "BPuu9CAKwViP",
        "colab": {
          "base_uri": "https://localhost:8080/"
        },
        "outputId": "087febc3-ae81-4801-a6a8-5aa0f9480630"
      },
      "outputs": [
        {
          "output_type": "stream",
          "name": "stdout",
          "text": [
            "total emissions of all other (non-meat) products is: 31927.98\n"
          ]
        }
      ],
      "source": [
        "# Your answer here.\n",
        "sum = df[~df['food_category'].isin([\"Pork\",\"Poultry\", \"Fish\", \"Lamb & Goat\", \"Beef\"])]['co2_emmission'].sum()\n",
        "print(\"total emissions of all other (non-meat) products is:\",sum)"
      ]
    }
  ],
  "metadata": {
    "kernelspec": {
      "display_name": "Python 3 (ipykernel)",
      "language": "python",
      "name": "python3"
    },
    "language_info": {
      "codemirror_mode": {
        "name": "ipython",
        "version": 3
      },
      "file_extension": ".py",
      "mimetype": "text/x-python",
      "name": "python",
      "nbconvert_exporter": "python",
      "pygments_lexer": "ipython3",
      "version": "3.9.7"
    },
    "colab": {
      "provenance": []
    }
  },
  "nbformat": 4,
  "nbformat_minor": 0
}
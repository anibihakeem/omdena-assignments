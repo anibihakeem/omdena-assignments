{
  "cells": [
    {
      "cell_type": "markdown",
      "metadata": {
        "id": "yROty7vii5bL"
      },
      "source": [
        "![](../docs/banner.png)"
      ]
    },
    {
      "cell_type": "markdown",
      "metadata": {
        "id": "fAnPms7mi5bO"
      },
      "source": [
        "# NumPy\n"
      ]
    },
    {
      "cell_type": "markdown",
      "metadata": {
        "id": "0QVY-L0ji5bP"
      },
      "source": [
        "## Exercises"
      ]
    },
    {
      "cell_type": "markdown",
      "metadata": {
        "id": "F2N_dOQzi5bQ"
      },
      "source": [
        "### 1."
      ]
    },
    {
      "cell_type": "markdown",
      "metadata": {
        "id": "W5LaXUU7i5bQ"
      },
      "source": [
        "Import numpy under the alias `np`."
      ]
    },
    {
      "cell_type": "code",
      "execution_count": 2,
      "metadata": {
        "id": "th7TOVFXi5bQ"
      },
      "outputs": [],
      "source": [
        "# Your answer here.\n",
        "import numpy as np"
      ]
    },
    {
      "cell_type": "markdown",
      "metadata": {
        "id": "xhxgkOIei5bR"
      },
      "source": [
        "### 2."
      ]
    },
    {
      "cell_type": "markdown",
      "metadata": {
        "id": "VFHsEU-0i5bS"
      },
      "source": [
        "Create the following arrays:\n",
        "\n",
        "1. Create an array of 5 zeros.\n",
        "2. Create an array of 10 ones.\n",
        "3. Create an array of 5 3.141s.\n",
        "4. Create an array of the integers 1 to 20.\n",
        "5. Create a 5 x 5 matrix of ones with a dtype `int`."
      ]
    },
    {
      "cell_type": "code",
      "execution_count": null,
      "metadata": {
        "id": "mEBaeHaAi5bT",
        "colab": {
          "base_uri": "https://localhost:8080/"
        },
        "outputId": "38cb397c-ea57-4af2-9d20-4477bece7429"
      },
      "outputs": [
        {
          "output_type": "stream",
          "name": "stdout",
          "text": [
            "this is an array of 5 zeros: [0. 0. 0. 0. 0.]\n",
            "this is an array of 10 ones: [1. 1. 1. 1. 1. 1. 1. 1. 1. 1.]\n",
            "this is an array of 53.141s : [[52.141 52.141 52.141]\n",
            " [52.141 52.141 52.141]\n",
            " [52.141 52.141 52.141]]\n",
            "this is an array of integers 1 to 20: [ 0  1  2  3  4  5  6  7  8  9 10 11 12 13 14 15 16 17 18 19 20]\n",
            "[[1. 1. 1. 1. 1.]\n",
            " [1. 1. 1. 1. 1.]\n",
            " [1. 1. 1. 1. 1.]\n",
            " [1. 1. 1. 1. 1.]\n",
            " [1. 1. 1. 1. 1.]]\n"
          ]
        }
      ],
      "source": [
        "# Your answer here.\n",
        "five_zero = np.zeros(5)\n",
        "print(\"this is an array of 5 zeros:\",five_zero)\n",
        "ten_ones = np.ones(10)\n",
        "print(\"this is an array of 10 ones:\",ten_ones)\n",
        "full_array = np.full((3,3),52.141)\n",
        "print(\"this is an array of 53.141s :\",full_array)\n",
        "integers = np.arange(21)\n",
        "print(\"this is an array of integers 1 to 20:\",integers)\n",
        "matrix = np.ones((5,5))\n",
        "print(matrix)"
      ]
    },
    {
      "cell_type": "markdown",
      "metadata": {
        "id": "UBp5w3Sti5bU"
      },
      "source": [
        "### 3."
      ]
    },
    {
      "cell_type": "markdown",
      "metadata": {
        "id": "lF8XL653i5bV"
      },
      "source": [
        "Use numpy to:\n",
        "1. Create an 3D matrix of 3 x 3 x 3 full of random numbers drawn from a standard normal distribution (hint: `np.random.randn()`)\n",
        "2. Reshape the above array into shape (27,)"
      ]
    },
    {
      "cell_type": "code",
      "execution_count": null,
      "metadata": {
        "id": "F55n76JPi5bV",
        "colab": {
          "base_uri": "https://localhost:8080/"
        },
        "outputId": "6c19b290-dcab-465f-d0fe-56ebd425d44a"
      },
      "outputs": [
        {
          "output_type": "execute_result",
          "data": {
            "text/plain": [
              "array([ 2.71870109, -0.26965544,  1.98877483,  0.32947746,  1.57272142,\n",
              "        0.9711901 ,  0.35891355,  1.05495392,  0.55436068, -0.54765225,\n",
              "        1.05783853, -0.14976577, -0.09805502, -2.2728271 ,  0.51000412,\n",
              "       -1.8966798 , -0.16672623, -0.59724922, -1.30642299, -0.36803614,\n",
              "        1.79588982, -0.11361812, -2.00143095, -1.28597248, -0.98302828,\n",
              "        0.14162646, -1.60035346])"
            ]
          },
          "metadata": {},
          "execution_count": 2
        }
      ],
      "source": [
        "# Your answer here.\n",
        "\n",
        "a = np.random.randn(3,3,3)\n",
        "b= a.reshape(27)\n",
        "b"
      ]
    },
    {
      "cell_type": "markdown",
      "metadata": {
        "id": "tYL6ectCi5bV"
      },
      "source": [
        "### 4."
      ]
    },
    {
      "cell_type": "markdown",
      "metadata": {
        "id": "yLICkRfGi5bW"
      },
      "source": [
        "Create an array of 20 linearly spaced numbers between 1 and 10."
      ]
    },
    {
      "cell_type": "code",
      "execution_count": 3,
      "metadata": {
        "id": "vpb4QaeFi5bW",
        "colab": {
          "base_uri": "https://localhost:8080/"
        },
        "outputId": "091dc0be-a75e-4e09-a138-f368d009e92a"
      },
      "outputs": [
        {
          "output_type": "execute_result",
          "data": {
            "text/plain": [
              "array([ 1.        ,  1.47368421,  1.94736842,  2.42105263,  2.89473684,\n",
              "        3.36842105,  3.84210526,  4.31578947,  4.78947368,  5.26315789,\n",
              "        5.73684211,  6.21052632,  6.68421053,  7.15789474,  7.63157895,\n",
              "        8.10526316,  8.57894737,  9.05263158,  9.52631579, 10.        ])"
            ]
          },
          "metadata": {},
          "execution_count": 3
        }
      ],
      "source": [
        "# Your answer here.\n",
        "numbers = np.linspace(1, 10, 20)\n",
        "numbers"
      ]
    },
    {
      "cell_type": "markdown",
      "metadata": {
        "id": "QnTqz8EHi5bW"
      },
      "source": [
        "### 5."
      ]
    },
    {
      "cell_type": "markdown",
      "metadata": {
        "id": "E-KXqY45i5bW"
      },
      "source": [
        "Run the following code to create an array of shape 4 x 4 and then use indexing to produce the outputs shown below."
      ]
    },
    {
      "cell_type": "code",
      "execution_count": 4,
      "metadata": {
        "id": "XSF7wfrni5bX",
        "outputId": "ab45b1cb-a5f2-4391-db07-bbd331d40ac8",
        "colab": {
          "base_uri": "https://localhost:8080/"
        }
      },
      "outputs": [
        {
          "output_type": "execute_result",
          "data": {
            "text/plain": [
              "array([[ 1,  2,  3,  4,  5],\n",
              "       [ 6,  7,  8,  9, 10],\n",
              "       [11, 12, 13, 14, 15],\n",
              "       [16, 17, 18, 19, 20],\n",
              "       [21, 22, 23, 24, 25]])"
            ]
          },
          "metadata": {},
          "execution_count": 4
        }
      ],
      "source": [
        "import numpy as np\n",
        "a = np.arange(1, 26).reshape(5, -1)\n",
        "a"
      ]
    },
    {
      "cell_type": "markdown",
      "metadata": {
        "id": "p3sq1kMpi5bX"
      },
      "source": [
        "```python\n",
        "20\n",
        "```"
      ]
    },
    {
      "cell_type": "code",
      "execution_count": null,
      "metadata": {
        "id": "-WGksemGi5bX",
        "outputId": "f07fc9a1-0583-497f-b704-9dd5a60204e4",
        "colab": {
          "base_uri": "https://localhost:8080/"
        }
      },
      "outputs": [
        {
          "output_type": "execute_result",
          "data": {
            "text/plain": [
              "20"
            ]
          },
          "metadata": {},
          "execution_count": 17
        }
      ],
      "source": [
        "# Your answer here.\n",
        "a[3,4]"
      ]
    },
    {
      "cell_type": "markdown",
      "metadata": {
        "id": "8eqKOfURi5bX"
      },
      "source": [
        "```python\n",
        "array([[ 9, 10],\n",
        "       [14, 15],\n",
        "       [19, 20],\n",
        "       [24, 25]])\n",
        "```"
      ]
    },
    {
      "cell_type": "code",
      "execution_count": null,
      "metadata": {
        "id": "mHP-cxtpi5bX",
        "outputId": "de5e1e89-3e6f-4840-f5d1-70a243b773fd",
        "colab": {
          "base_uri": "https://localhost:8080/"
        }
      },
      "outputs": [
        {
          "output_type": "execute_result",
          "data": {
            "text/plain": [
              "array([[ 9, 10],\n",
              "       [14, 15],\n",
              "       [19, 20],\n",
              "       [24, 25]])"
            ]
          },
          "metadata": {},
          "execution_count": 15
        }
      ],
      "source": [
        "# Your answer here.\n",
        "a[1:,3:]\n"
      ]
    },
    {
      "cell_type": "markdown",
      "metadata": {
        "id": "cjTP6JIai5bY"
      },
      "source": [
        "```python\n",
        "array([ 6,  7,  8,  9, 10])\n",
        "```"
      ]
    },
    {
      "cell_type": "code",
      "execution_count": null,
      "metadata": {
        "id": "iTV4xBIWi5bY",
        "outputId": "98dbeef1-2748-4f3c-a949-80eac3e1bafa",
        "colab": {
          "base_uri": "https://localhost:8080/"
        }
      },
      "outputs": [
        {
          "output_type": "execute_result",
          "data": {
            "text/plain": [
              "array([ 6,  7,  8,  9, 10])"
            ]
          },
          "metadata": {},
          "execution_count": 14
        }
      ],
      "source": [
        "# Your answer here.\n",
        "a[1]"
      ]
    },
    {
      "cell_type": "markdown",
      "metadata": {
        "id": "eIAD600ii5bY"
      },
      "source": [
        "```python\n",
        "array([[11, 12, 13, 14, 15],\n",
        "       [16, 17, 18, 19, 20]])\n",
        "```"
      ]
    },
    {
      "cell_type": "code",
      "execution_count": null,
      "metadata": {
        "id": "QkfR4Grti5bY",
        "colab": {
          "base_uri": "https://localhost:8080/"
        },
        "outputId": "0850be05-e8b6-47e0-8a9c-ad51d381c2ed"
      },
      "outputs": [
        {
          "output_type": "execute_result",
          "data": {
            "text/plain": [
              "array([[11, 12, 13, 14, 15],\n",
              "       [16, 17, 18, 19, 20]])"
            ]
          },
          "metadata": {},
          "execution_count": 13
        }
      ],
      "source": [
        "# Your answer here.\n",
        "a[2:4,:]"
      ]
    },
    {
      "cell_type": "markdown",
      "metadata": {
        "id": "rJncVDyJi5bY"
      },
      "source": [
        "```python\n",
        "array([[ 8,  9],\n",
        "       [13, 14]])\n",
        "```"
      ]
    },
    {
      "cell_type": "code",
      "execution_count": null,
      "metadata": {
        "id": "O3Qu4CuHi5bY",
        "colab": {
          "base_uri": "https://localhost:8080/"
        },
        "outputId": "989d3649-e207-463d-d4d6-ce451234bdd4"
      },
      "outputs": [
        {
          "output_type": "execute_result",
          "data": {
            "text/plain": [
              "array([[ 8,  9],\n",
              "       [13, 14]])"
            ]
          },
          "metadata": {},
          "execution_count": 21
        }
      ],
      "source": [
        "# Your answer here.\n",
        "a\n",
        "a[1:3,2:4]\n",
        "\n"
      ]
    },
    {
      "cell_type": "markdown",
      "metadata": {
        "id": "XLeaB5SOi5bZ"
      },
      "source": [
        "### 6."
      ]
    },
    {
      "cell_type": "markdown",
      "metadata": {
        "id": "LhEX7cYti5bZ"
      },
      "source": [
        "Calculate the sum of all the numbers in `a`."
      ]
    },
    {
      "cell_type": "code",
      "execution_count": null,
      "metadata": {
        "id": "La1e4qmXi5bZ",
        "outputId": "e2241818-fd51-4f68-d3d4-78dc1d535a0f",
        "colab": {
          "base_uri": "https://localhost:8080/"
        }
      },
      "outputs": [
        {
          "output_type": "stream",
          "name": "stdout",
          "text": [
            "325\n"
          ]
        }
      ],
      "source": [
        "# Your answer here.\n",
        "print(a.sum())"
      ]
    },
    {
      "cell_type": "markdown",
      "metadata": {
        "id": "2fed1u_mi5bZ"
      },
      "source": [
        "### 7."
      ]
    },
    {
      "cell_type": "markdown",
      "metadata": {
        "id": "S0fH33OCi5bZ"
      },
      "source": [
        "Calculate the sum of each row in `a`."
      ]
    },
    {
      "cell_type": "code",
      "execution_count": 6,
      "metadata": {
        "id": "__qI1s7Yi5bZ",
        "colab": {
          "base_uri": "https://localhost:8080/"
        },
        "outputId": "e61d94f5-71b5-4ba6-8fc3-bef647724e23"
      },
      "outputs": [
        {
          "output_type": "execute_result",
          "data": {
            "text/plain": [
              "array([ 15,  40,  65,  90, 115])"
            ]
          },
          "metadata": {},
          "execution_count": 6
        }
      ],
      "source": [
        "# Your answer here.\n",
        "a.sum(axis = 1)"
      ]
    },
    {
      "cell_type": "markdown",
      "metadata": {
        "id": "yK1hxaS7i5bZ"
      },
      "source": [
        "### 8."
      ]
    },
    {
      "cell_type": "markdown",
      "metadata": {
        "id": "kXw13Ll6i5bZ"
      },
      "source": [
        "Extract all values of `a` greater than the mean of `a` (hint: use a boolean mask)."
      ]
    },
    {
      "cell_type": "code",
      "execution_count": null,
      "metadata": {
        "id": "-LRVVp27i5bZ",
        "outputId": "5ad4c0fa-0834-4857-8c38-e47d76db3805",
        "colab": {
          "base_uri": "https://localhost:8080/"
        }
      },
      "outputs": [
        {
          "output_type": "stream",
          "name": "stdout",
          "text": [
            "13.0\n",
            "[14 15 16 17 18 19 20 21 22 23 24 25]\n"
          ]
        }
      ],
      "source": [
        "# Your answer here.\n",
        "print (a.mean())\n",
        "grt_mean = a > a.mean()\n",
        "print(a[grt_mean])"
      ]
    },
    {
      "cell_type": "markdown",
      "metadata": {
        "id": "3_Sgk-Rki5bZ"
      },
      "source": [
        "### 9."
      ]
    },
    {
      "cell_type": "markdown",
      "metadata": {
        "id": "BOgmodFGi5bZ"
      },
      "source": [
        "Find the location of the minimum value in the following array `b`:"
      ]
    },
    {
      "cell_type": "code",
      "execution_count": null,
      "metadata": {
        "id": "qc40T2nIi5ba",
        "outputId": "565326c2-4a3e-44ef-c09d-b80d22be51c8",
        "colab": {
          "base_uri": "https://localhost:8080/"
        }
      },
      "outputs": [
        {
          "output_type": "execute_result",
          "data": {
            "text/plain": [
              "array([-1.0856306 ,  0.99734545,  0.2829785 , -1.50629471, -0.57860025,\n",
              "        1.65143654, -2.42667924, -0.42891263,  1.26593626, -0.8667404 ])"
            ]
          },
          "metadata": {},
          "execution_count": 6
        }
      ],
      "source": [
        "np.random.seed(123)\n",
        "b = np.random.randn(10)\n",
        "b"
      ]
    },
    {
      "cell_type": "code",
      "execution_count": null,
      "metadata": {
        "id": "uYUWlruEi5ba",
        "outputId": "7c7a0945-45e4-45e5-94a4-4b4e92e48b71",
        "colab": {
          "base_uri": "https://localhost:8080/"
        }
      },
      "outputs": [
        {
          "output_type": "execute_result",
          "data": {
            "text/plain": [
              "6"
            ]
          },
          "metadata": {},
          "execution_count": 8
        }
      ],
      "source": [
        "# Your answer here.\n",
        "min = b.argmin()\n",
        "min"
      ]
    },
    {
      "cell_type": "markdown",
      "metadata": {
        "id": "jScMHHQKi5ba"
      },
      "source": [
        "### 10."
      ]
    },
    {
      "cell_type": "markdown",
      "metadata": {
        "id": "1wuSnMvki5ba"
      },
      "source": [
        "Find the location of the maximum value in the following 2D array `c` (hint: there are many ways to do this question, but a quick search on stackoverflow.com will typically help you find the optimum solution for a problem, for example see [post](https://stackoverflow.com/questions/3584243/get-the-position-of-the-biggest-item-in-a-multi-dimensional-numpy-array)):"
      ]
    },
    {
      "cell_type": "code",
      "execution_count": null,
      "metadata": {
        "id": "2vUghTQri5ba",
        "outputId": "cd5529db-2ab8-471f-e2cb-7dfabc464803",
        "colab": {
          "base_uri": "https://localhost:8080/"
        }
      },
      "outputs": [
        {
          "output_type": "execute_result",
          "data": {
            "text/plain": [
              "array([[-1.0856306 ,  0.99734545],\n",
              "       [ 0.2829785 , -1.50629471],\n",
              "       [-0.57860025,  1.65143654]])"
            ]
          },
          "metadata": {},
          "execution_count": 4
        }
      ],
      "source": [
        "np.random.seed(123)\n",
        "c = np.random.randn(3, 2)\n",
        "c"
      ]
    },
    {
      "cell_type": "code",
      "execution_count": null,
      "metadata": {
        "id": "LN1keMf1i5bb",
        "colab": {
          "base_uri": "https://localhost:8080/"
        },
        "outputId": "fea5ebdb-e9f2-47d4-e278-255cdbed5865"
      },
      "outputs": [
        {
          "output_type": "execute_result",
          "data": {
            "text/plain": [
              "5"
            ]
          },
          "metadata": {},
          "execution_count": 5
        }
      ],
      "source": [
        "# Your answer here.\n",
        "max = c.argmax()\n",
        "max"
      ]
    },
    {
      "cell_type": "markdown",
      "metadata": {
        "id": "jwrTRMkfi5bb"
      },
      "source": [
        "<hr>\n",
        "<hr>\n",
        "<hr>"
      ]
    }
  ],
  "metadata": {
    "kernelspec": {
      "display_name": "Python 3 (ipykernel)",
      "language": "python",
      "name": "python3"
    },
    "language_info": {
      "codemirror_mode": {
        "name": "ipython",
        "version": 3
      },
      "file_extension": ".py",
      "mimetype": "text/x-python",
      "name": "python",
      "nbconvert_exporter": "python",
      "pygments_lexer": "ipython3",
      "version": "3.9.7"
    },
    "colab": {
      "provenance": [],
      "collapsed_sections": [
        "tYL6ectCi5bV",
        "XLeaB5SOi5bZ",
        "2fed1u_mi5bZ",
        "yK1hxaS7i5bZ"
      ]
    }
  },
  "nbformat": 4,
  "nbformat_minor": 0
}